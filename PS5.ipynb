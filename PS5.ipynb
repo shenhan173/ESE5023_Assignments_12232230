{
 "cells": [
  {
   "cell_type": "markdown",
   "id": "add1502a",
   "metadata": {},
   "source": [
    "# 1. Modeling of carbon cycle"
   ]
  },
  {
   "cell_type": "markdown",
   "id": "6eacf221",
   "metadata": {},
   "source": [
    "In this problem, we will build a box model to understand the Earth’s carbon cycle based on the framework in Tomizuka 2009."
   ]
  },
  {
   "cell_type": "code",
   "execution_count": 1,
   "id": "e11ff1d7",
   "metadata": {},
   "outputs": [],
   "source": [
    "from scipy.integrate import odeint\n",
    "import numpy as np\n",
    "import pandas as pd\n",
    "import matplotlib.pyplot as plt\n",
    "import scipy.optimize as optimize\n",
    "from matplotlib.ticker import MaxNLocator\n",
    "import math\n",
    "from scipy.integrate import odeint\n",
    "from math import e\n"
   ]
  },
  {
   "cell_type": "markdown",
   "id": "f81bbc7a",
   "metadata": {},
   "source": [
    "#### 1.1 [15 points] Following equation 1-2 (without the buffer effect), build a two-box model to compute the atmospheric CO2 level in ppm (parts per million) from 1987 to 2004."
   ]
  },
  {
   "cell_type": "code",
   "execution_count": 2,
   "id": "0a71af9a",
   "metadata": {},
   "outputs": [
    {
     "data": {
      "text/html": [
       "<div>\n",
       "<style scoped>\n",
       "    .dataframe tbody tr th:only-of-type {\n",
       "        vertical-align: middle;\n",
       "    }\n",
       "\n",
       "    .dataframe tbody tr th {\n",
       "        vertical-align: top;\n",
       "    }\n",
       "\n",
       "    .dataframe thead th {\n",
       "        text-align: right;\n",
       "    }\n",
       "</style>\n",
       "<table border=\"1\" class=\"dataframe\">\n",
       "  <thead>\n",
       "    <tr style=\"text-align: right;\">\n",
       "      <th></th>\n",
       "      <th>year</th>\n",
       "      <th>total</th>\n",
       "      <th>gas</th>\n",
       "      <th>liquids</th>\n",
       "      <th>cement solids</th>\n",
       "      <th>gas production</th>\n",
       "      <th>per flaring</th>\n",
       "      <th>capita</th>\n",
       "    </tr>\n",
       "  </thead>\n",
       "  <tbody>\n",
       "    <tr>\n",
       "      <th>0</th>\n",
       "      <td>1751</td>\n",
       "      <td>3</td>\n",
       "      <td>0</td>\n",
       "      <td>0</td>\n",
       "      <td>3</td>\n",
       "      <td>0</td>\n",
       "      <td>0</td>\n",
       "      <td>NaN</td>\n",
       "    </tr>\n",
       "    <tr>\n",
       "      <th>1</th>\n",
       "      <td>1752</td>\n",
       "      <td>3</td>\n",
       "      <td>0</td>\n",
       "      <td>0</td>\n",
       "      <td>3</td>\n",
       "      <td>0</td>\n",
       "      <td>0</td>\n",
       "      <td>NaN</td>\n",
       "    </tr>\n",
       "    <tr>\n",
       "      <th>2</th>\n",
       "      <td>1753</td>\n",
       "      <td>3</td>\n",
       "      <td>0</td>\n",
       "      <td>0</td>\n",
       "      <td>3</td>\n",
       "      <td>0</td>\n",
       "      <td>0</td>\n",
       "      <td>NaN</td>\n",
       "    </tr>\n",
       "    <tr>\n",
       "      <th>3</th>\n",
       "      <td>1754</td>\n",
       "      <td>3</td>\n",
       "      <td>0</td>\n",
       "      <td>0</td>\n",
       "      <td>3</td>\n",
       "      <td>0</td>\n",
       "      <td>0</td>\n",
       "      <td>NaN</td>\n",
       "    </tr>\n",
       "    <tr>\n",
       "      <th>4</th>\n",
       "      <td>1755</td>\n",
       "      <td>3</td>\n",
       "      <td>0</td>\n",
       "      <td>0</td>\n",
       "      <td>3</td>\n",
       "      <td>0</td>\n",
       "      <td>0</td>\n",
       "      <td>NaN</td>\n",
       "    </tr>\n",
       "  </tbody>\n",
       "</table>\n",
       "</div>"
      ],
      "text/plain": [
       "   year  total  gas  liquids  cement solids  gas production  per flaring  \\\n",
       "0  1751      3    0        0              3               0            0   \n",
       "1  1752      3    0        0              3               0            0   \n",
       "2  1753      3    0        0              3               0            0   \n",
       "3  1754      3    0        0              3               0            0   \n",
       "4  1755      3    0        0              3               0            0   \n",
       "\n",
       "   capita  \n",
       "0     NaN  \n",
       "1     NaN  \n",
       "2     NaN  \n",
       "3     NaN  \n",
       "4     NaN  "
      ]
     },
     "execution_count": 2,
     "metadata": {},
     "output_type": "execute_result"
    }
   ],
   "source": [
    "df=pd.read_csv('global.1751_2008.ems.txt',sep='\\s+',skiprows=27,    #Skip 27 lines\n",
    "                  names=['year','total','gas','liquids','cement solids','gas production','per flaring','capita'])\n",
    "df.head(5)"
   ]
  },
  {
   "cell_type": "code",
   "execution_count": 3,
   "id": "0dee4f67",
   "metadata": {
    "scrolled": true
   },
   "outputs": [],
   "source": [
    "# The emission was observed to change rapidly over time and was simulated exponentially\n",
    "def CO2_emis(t,r1,r2,r3): # Define the function that fits\n",
    "    return np.exp(r1*t+r2)+r3\n",
    "r1=0.1\n",
    "r2=0.1\n",
    "r3=0\n",
    "p0=[r1,r2,r3] #Set the initial value of the fit\n",
    "para,cov=optimize.curve_fit(CO2_emis,df['year'],df['total'],p0=p0)#Call the fitting function\n",
    "emis_fit=[CO2_emis(a,*para) for a in df['year']] #Calculate the result after fitting\n",
    "# print(para)\n",
    "# plt.plot(df['year'],df['total']) \n",
    "# plt.plot(df['year'],emis_fit)\n",
    "# plt.title('Global CO2 Emissions from Fossil-Fuel Burning,1751-2008() ')\n",
    "# plt.show()                             # Comparison graph between true value and fitting\n",
    "def model1(y,t,k12,k21,para):    #Define a function without the buffer effect\n",
    "    N1,N2,r = y\n",
    "    dydt=[-k12*N1+k21*N2+r,k12*N1-k21*N2,para[0]*(r-para[2])]\n",
    "    return dydt\n",
    "\n",
    "t=np.linspace(1987, 2004, 100)#independent variable\n",
    "r=CO2_emis(t,*para)\n",
    "k12=105/740\n",
    "k21=102/900\n",
    "N1=740*1000\n",
    "N2=900*1000\n",
    "y0=[N1,N2,r[0]] #initial value\n",
    "sol = odeint(model1, y0, t, args=(k12,k21,para))/1000/740*347 #Call the carbon models function，the result is translated into ppm units\n",
    "# plt.figure(figsize=(8,5))\n",
    "# plt.plot(t, sol[:, 0], label='CO2 in atmosphere(ppm)')\n",
    "# plt.gca().xaxis.set_major_locator(MaxNLocator(integer=True)) # Set the scale of the horizontal axis to an integer\n",
    "# plt.legend(loc='best')\n",
    "# plt.title('1987-2004 CO2 concentration without the buffer effect')\n",
    "# plt.show()"
   ]
  },
  {
   "cell_type": "markdown",
   "id": "8e2de66b",
   "metadata": {},
   "source": [
    "#### 1.2 [20 points] Following equation 3-4 (with the buffer effect), build a two-box model to compute the atmospheric CO2 level in ppm from 1987 to 2004."
   ]
  },
  {
   "cell_type": "code",
   "execution_count": 4,
   "id": "1471913c",
   "metadata": {
    "scrolled": true
   },
   "outputs": [],
   "source": [
    "def model2(y,t,k12,k21,N0,para):    #Define a function with the buffer effect\n",
    "    N1,N2,r2 = y\n",
    "    bf=3.69+1.86e-2*(N1/740/1000*347)-1.8e-6*((N1/740/1000*347)**2) #buffer factor\n",
    "    dydt=[-k12*N1+k21*(N0+bf*(N2-N0))+r2,    #  Due N0 is the equilibrium value of carbon in the surface ocean In the preindustrial era,                                             \n",
    "          k12*N1-k21*(N0+bf*(N2-N0)),        # so the independent variables(t) should start in the preindustrial era\n",
    "          para[0]*(r2-para[2])]\n",
    "    return dydt\n",
    "t2=np.linspace(1751, 2004, 253) #independent variable(start in the preindustrial era)\n",
    "r2=CO2_emis(t2,*para)\n",
    "k12=105/740\n",
    "k21=102/900\n",
    "N0=821*1000\n",
    "N1=618*1000\n",
    "N2=821*1000\n",
    "y0=[N1,N2,r2[0]] #initial value\n",
    "sol2 = odeint(model2, y0, t2, args=(k12,k21,N0,para))/740/1000*347 #Call the carbon models function，the result is translated into ppm units\n",
    "# plt.figure(figsize=(8,5))\n",
    "# plt.plot(t2[235:253],sol2[235:253,0], label='CO2 in atmosphere(ppm)')\n",
    "# plt.gca().xaxis.set_major_locator(MaxNLocator(integer=True)) # Set the scale of the horizontal axis to an integer\n",
    "# plt.legend(loc='best')\n",
    "# plt.title('1987-2004 CO2 concentration with the buffer effect')\n",
    "# plt.show()"
   ]
  },
  {
   "cell_type": "markdown",
   "id": "24537b1a",
   "metadata": {},
   "source": [
    "#### 1.3 [5 points] Based on your results from 1.1 and 1.2, reproduce Figure 2 in Tomizuka (2009) as much as you can."
   ]
  },
  {
   "cell_type": "code",
   "execution_count": 5,
   "id": "5637b2d9",
   "metadata": {},
   "outputs": [
    {
     "data": {
      "image/png": "[encoded data removed]",
      "text/plain": [
       "<Figure size 576x360 with 1 Axes>"
      ]
     },
     "metadata": {
      "needs_background": "light"
     },
     "output_type": "display_data"
    }
   ],
   "source": [
    "df2=pd.read_csv('co2_annmean_mlo.csv',sep=',',skiprows=57,usecols=[0,1], # obversed data\n",
    "               names=['year','CO2'])\n",
    "plt.figure(figsize=(8,5))\n",
    "plt.plot(t, sol[:, 0]) # without buffer effect\n",
    "plt.plot(t2[235:253], sol2[235:253,0], 'r') # with buffer effect\n",
    "plt.scatter(df2['year'][28:45],df2['CO2'][28:45]) # observed data\n",
    "plt.legend(['without buffer effect','with buffer effect','observation'],loc='best')\n",
    "plt.xlabel('year')\n",
    "plt.ylabel('CO2(ppm)')\n",
    "plt.gca().xaxis.set_major_locator(MaxNLocator(integer=True))\n",
    "plt.title('CO2 concentration(ppm)')\n",
    "plt.show()"
   ]
  },
  {
   "cell_type": "markdown",
   "id": "16c05281",
   "metadata": {},
   "source": [
    "#### [Bonus] [15 points] Following equation 5-13, compute the atmospheric CO2 level in ppm and reproduce Figure 4 in Tomizuka (2009)."
   ]
  },
  {
   "cell_type": "code",
   "execution_count": 6,
   "id": "07e86d5f",
   "metadata": {},
   "outputs": [],
   "source": [
    "def model3(N,t,rr,bf,f,da):  #defintion seveb-box model\n",
    "    N02 = 821\n",
    "    k12 = 60/615\n",
    "    k21 = 60/842\n",
    "    k23 = 9/842\n",
    "    k24 = 43/842\n",
    "    k32 = 52/9744\n",
    "    k34 = 162/9744\n",
    "    k43 = 205/26280\n",
    "    k45 = 0.2/26280\n",
    "    k51 = 0.2/90000000\n",
    "    k67 = 62/731\n",
    "    k71 = 62/1328\n",
    "    N1,N2,N3,N4,N5,N6,N7 = N\n",
    "    dN1dt = [-k12 * N1 + k21 * (N02 + bf*(N2 - N02)) + rr - f + da + k51 * N5 + k71 * N7,\n",
    "            k12 * N1 - k21 * (N02 + bf*(N2 - N02)) - k23 * N2 + k32 * N3 - k24 * N2,\n",
    "            k23*N2 - k32*N3 - k34*N3 +k43*N4,\n",
    "            k34*N3 - k43*N4 + k24*N2 -k45*N4,\n",
    "            k45*N4 - k51*N5,\n",
    "            f - k67*N6 - 2*da,\n",
    "            k67*N6 - k71*N7 + da]\n",
    "    return dN1dt \n",
    "def buffer(CO2):   #defintion buffer\n",
    "    bf = 3.69 + 1.86 * 10**-2 * CO2 - 1.80 * 10**-6 * CO2**2\n",
    "    return bf \n",
    "def ff(P,beta):\n",
    "    f0 = 62\n",
    "    P0=290.21\n",
    "    f = f0 * (1 + beta * math.log(P/P0))\n",
    "    return f"
   ]
  },
  {
   "cell_type": "code",
   "execution_count": 9,
   "id": "e16dfa0c",
   "metadata": {
    "scrolled": true
   },
   "outputs": [],
   "source": [
    "# read the data \n",
    "rr = np.loadtxt(\"global.1751_2008.csv\", delimiter=\",\", skiprows = 2, usecols = 1)/10**3\n",
    "da = np.empty_like(rr)\n",
    "da[0:100] = np.linspace(0.2,0.5,100)\n",
    "da[99:-3]= np.loadtxt(\"Global_land-use_flux-1850_2005.csv\", delimiter=\",\", skiprows = 1, usecols = 1)/10**3\n",
    "da[-3:] = da[-4]\n",
    "annualco2 = np.loadtxt(\"co2_annmean_mlo.csv\", delimiter=\",\", skiprows = 56 )[:,1]\n",
    "T = np.loadtxt(\"co2_annmean_mlo.csv\", delimiter=\",\", skiprows = 56 )[:,0]\n",
    "ynum = 2008 - 1751 + 1\n",
    "\n",
    "t = np.linspace(1751,1751+ynum-1,ynum,dtype='int')\n",
    "co2_obs = np.loadtxt(\"co2.csv\", delimiter=\",\", skiprows = 149)\n",
    "model3_b1 = np.empty_like(t)\n",
    "model3_b2 = np.empty_like(t)\n",
    "# situation of Bita=0.38    #reference shenshao\n",
    "bb = 0.38\n",
    "N0 = [615, 842, 9744, 26280, 90000000, 731, 1238]\n",
    "model3_b1[0] = N0[0]\n",
    "co2p = model3_b1[0]/2.13\n",
    "bf = buffer(co2p)\n",
    "f = ff(co2p,bb)\n",
    "for i in range(1,ynum):# slove the ODE \n",
    "    dt = [0,1]    \n",
    "    N = odeint(model3,N0,dt,args=(rr[i-1],bf,f,da[i-1])) # solve the equal\n",
    "    model3_b1[i] = N[1][0]    # print the result\n",
    "    co2p = model3_b1[i]/2.13 # initiation \n",
    "    N0 = N[1]\n",
    "    bf = buffer(co2p)\n",
    "    f = ff(co2p,bb)    \n",
    "# situation of Bita=0.5\n",
    "bb = 0.5\n",
    "N0 = [615, 842, 9744, 26280, 90000000, 731, 1238]\n",
    "model3_b2[0] = N0[0]\n",
    "co2p = model3_b2[0]/2.13\n",
    "bf = buffer(co2p)\n",
    "f = ff(co2p,bb)\n",
    "for i in range(1,ynum):\n",
    "    dt = [0,1]    \n",
    "    N = odeint(model3,N0,dt,args=(rr[i-1],bf,f,da[i-1])) # solve the equal\n",
    "    model3_b2[i] = N[1][0]        # print the result\n",
    "    co2p = model3_b2[i]/2.13   # initiation \n",
    "    N0 = N[1]\n",
    "\n",
    "    bf = buffer(co2p)\n",
    "    f = ff(co2p,bb)    "
   ]
  },
  {
   "cell_type": "code",
   "execution_count": 10,
   "id": "0c0f7138",
   "metadata": {},
   "outputs": [
    {
     "data": {
      "image/png": "[encoded data removed]",
      "text/plain": [
       "<Figure size 576x360 with 1 Axes>"
      ]
     },
     "metadata": {
      "needs_background": "light"
     },
     "output_type": "display_data"
    }
   ],
   "source": [
    "plt.figure(figsize=(8,5))\n",
    "plt.plot(t[1:],model3_b1[1:]/2.13,label='b = 0.38') # plot Beta=0.38\n",
    "plt.plot(t[1:],model3_b2[1:]/2.13,label='b = 0.50')  #plot Beta=0.5\n",
    "plt.plot(co2_obs[:,0], co2_obs[:,1],'k.')\n",
    "plt.plot(T,annualco2,'k.',label='ovserved data')   # ovserved data\n",
    "plt.ylabel('CO2(ppm)')\n",
    "plt.xlabel('Year')\n",
    "plt.title('seven-box model')\n",
    "plt.legend(loc='best')\n",
    "plt.show()"
   ]
  }
 ],
 "metadata": {
  "kernelspec": {
   "display_name": "Python 3 (ipykernel)",
   "language": "python",
   "name": "python3"
  },
  "language_info": {
   "codemirror_mode": {
    "name": "ipython",
    "version": 3
   },
   "file_extension": ".py",
   "mimetype": "text/x-python",
   "name": "python",
   "nbconvert_exporter": "python",
   "pygments_lexer": "ipython3",
   "version": "3.9.12"
  }
 },
 "nbformat": 4,
 "nbformat_minor": 5
}
