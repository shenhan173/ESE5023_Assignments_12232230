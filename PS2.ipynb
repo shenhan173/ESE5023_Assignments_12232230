{
 "cells": [
  {
   "cell_type": "markdown",
   "id": "f8b954c0",
   "metadata": {},
   "source": [
    "# 1. Significant earthquakes since 2150 B.C."
   ]
  },
  {
   "cell_type": "markdown",
   "id": "241828b0",
   "metadata": {},
   "source": [
    "The Significant Earthquake Database contains information on destructive earthquakes from 2150 B.C. to the present. On the top left corner, select all columns and download the entire significant earthquake data file in .tsv format by clicking the Download TSV File button. Click the variable name for more information. Read the file (e.g., earthquakes-2022-10-18_09-17-48_+0800.tsv) as an object and name it Sig_Eqs."
   ]
  },
  {
   "cell_type": "code",
   "execution_count": 1,
   "id": "c4964f1c",
   "metadata": {},
   "outputs": [
    {
     "data": {
      "text/html": [
       "<div>\n",
       "<style scoped>\n",
       "    .dataframe tbody tr th:only-of-type {\n",
       "        vertical-align: middle;\n",
       "    }\n",
       "\n",
       "    .dataframe tbody tr th {\n",
       "        vertical-align: top;\n",
       "    }\n",
       "\n",
       "    .dataframe thead th {\n",
       "        text-align: right;\n",
       "    }\n",
       "</style>\n",
       "<table border=\"1\" class=\"dataframe\">\n",
       "  <thead>\n",
       "    <tr style=\"text-align: right;\">\n",
       "      <th></th>\n",
       "      <th>Search Parameters</th>\n",
       "      <th>Year</th>\n",
       "      <th>Mo</th>\n",
       "      <th>Dy</th>\n",
       "      <th>Hr</th>\n",
       "      <th>Mn</th>\n",
       "      <th>Sec</th>\n",
       "      <th>Tsu</th>\n",
       "      <th>Vol</th>\n",
       "      <th>Country</th>\n",
       "      <th>...</th>\n",
       "      <th>Total Missing</th>\n",
       "      <th>Total Missing Description</th>\n",
       "      <th>Total Injuries</th>\n",
       "      <th>Total Injuries Description</th>\n",
       "      <th>Total Damage ($Mil)</th>\n",
       "      <th>Total Damage Description</th>\n",
       "      <th>Total Houses Destroyed</th>\n",
       "      <th>Total Houses Destroyed Description</th>\n",
       "      <th>Total Houses Damaged</th>\n",
       "      <th>Total Houses Damaged Description</th>\n",
       "    </tr>\n",
       "  </thead>\n",
       "  <tbody>\n",
       "    <tr>\n",
       "      <th>0</th>\n",
       "      <td>[]</td>\n",
       "      <td>NaN</td>\n",
       "      <td>NaN</td>\n",
       "      <td>NaN</td>\n",
       "      <td>NaN</td>\n",
       "      <td>NaN</td>\n",
       "      <td>NaN</td>\n",
       "      <td>NaN</td>\n",
       "      <td>NaN</td>\n",
       "      <td>NaN</td>\n",
       "      <td>...</td>\n",
       "      <td>NaN</td>\n",
       "      <td>NaN</td>\n",
       "      <td>NaN</td>\n",
       "      <td>NaN</td>\n",
       "      <td>NaN</td>\n",
       "      <td>NaN</td>\n",
       "      <td>NaN</td>\n",
       "      <td>NaN</td>\n",
       "      <td>NaN</td>\n",
       "      <td>NaN</td>\n",
       "    </tr>\n",
       "    <tr>\n",
       "      <th>1</th>\n",
       "      <td>NaN</td>\n",
       "      <td>-2150.0</td>\n",
       "      <td>NaN</td>\n",
       "      <td>NaN</td>\n",
       "      <td>NaN</td>\n",
       "      <td>NaN</td>\n",
       "      <td>0.0</td>\n",
       "      <td>NaN</td>\n",
       "      <td>NaN</td>\n",
       "      <td>JORDAN</td>\n",
       "      <td>...</td>\n",
       "      <td>NaN</td>\n",
       "      <td>NaN</td>\n",
       "      <td>NaN</td>\n",
       "      <td>NaN</td>\n",
       "      <td>NaN</td>\n",
       "      <td>NaN</td>\n",
       "      <td>NaN</td>\n",
       "      <td>NaN</td>\n",
       "      <td>NaN</td>\n",
       "      <td>NaN</td>\n",
       "    </tr>\n",
       "    <tr>\n",
       "      <th>2</th>\n",
       "      <td>NaN</td>\n",
       "      <td>-2000.0</td>\n",
       "      <td>NaN</td>\n",
       "      <td>NaN</td>\n",
       "      <td>NaN</td>\n",
       "      <td>NaN</td>\n",
       "      <td>NaN</td>\n",
       "      <td>1.0</td>\n",
       "      <td>NaN</td>\n",
       "      <td>SYRIA</td>\n",
       "      <td>...</td>\n",
       "      <td>NaN</td>\n",
       "      <td>NaN</td>\n",
       "      <td>NaN</td>\n",
       "      <td>NaN</td>\n",
       "      <td>NaN</td>\n",
       "      <td>NaN</td>\n",
       "      <td>NaN</td>\n",
       "      <td>NaN</td>\n",
       "      <td>NaN</td>\n",
       "      <td>NaN</td>\n",
       "    </tr>\n",
       "    <tr>\n",
       "      <th>3</th>\n",
       "      <td>NaN</td>\n",
       "      <td>-2000.0</td>\n",
       "      <td>NaN</td>\n",
       "      <td>NaN</td>\n",
       "      <td>NaN</td>\n",
       "      <td>NaN</td>\n",
       "      <td>NaN</td>\n",
       "      <td>NaN</td>\n",
       "      <td>NaN</td>\n",
       "      <td>TURKMENISTAN</td>\n",
       "      <td>...</td>\n",
       "      <td>NaN</td>\n",
       "      <td>NaN</td>\n",
       "      <td>NaN</td>\n",
       "      <td>NaN</td>\n",
       "      <td>NaN</td>\n",
       "      <td>1.0</td>\n",
       "      <td>NaN</td>\n",
       "      <td>1.0</td>\n",
       "      <td>NaN</td>\n",
       "      <td>NaN</td>\n",
       "    </tr>\n",
       "    <tr>\n",
       "      <th>4</th>\n",
       "      <td>NaN</td>\n",
       "      <td>-1610.0</td>\n",
       "      <td>NaN</td>\n",
       "      <td>NaN</td>\n",
       "      <td>NaN</td>\n",
       "      <td>NaN</td>\n",
       "      <td>NaN</td>\n",
       "      <td>3.0</td>\n",
       "      <td>1351.0</td>\n",
       "      <td>GREECE</td>\n",
       "      <td>...</td>\n",
       "      <td>NaN</td>\n",
       "      <td>NaN</td>\n",
       "      <td>NaN</td>\n",
       "      <td>NaN</td>\n",
       "      <td>NaN</td>\n",
       "      <td>3.0</td>\n",
       "      <td>NaN</td>\n",
       "      <td>NaN</td>\n",
       "      <td>NaN</td>\n",
       "      <td>NaN</td>\n",
       "    </tr>\n",
       "    <tr>\n",
       "      <th>5</th>\n",
       "      <td>NaN</td>\n",
       "      <td>-1566.0</td>\n",
       "      <td>NaN</td>\n",
       "      <td>NaN</td>\n",
       "      <td>NaN</td>\n",
       "      <td>NaN</td>\n",
       "      <td>0.0</td>\n",
       "      <td>NaN</td>\n",
       "      <td>NaN</td>\n",
       "      <td>ISRAEL</td>\n",
       "      <td>...</td>\n",
       "      <td>NaN</td>\n",
       "      <td>NaN</td>\n",
       "      <td>NaN</td>\n",
       "      <td>NaN</td>\n",
       "      <td>NaN</td>\n",
       "      <td>NaN</td>\n",
       "      <td>NaN</td>\n",
       "      <td>NaN</td>\n",
       "      <td>NaN</td>\n",
       "      <td>NaN</td>\n",
       "    </tr>\n",
       "    <tr>\n",
       "      <th>6</th>\n",
       "      <td>NaN</td>\n",
       "      <td>-1450.0</td>\n",
       "      <td>NaN</td>\n",
       "      <td>NaN</td>\n",
       "      <td>NaN</td>\n",
       "      <td>NaN</td>\n",
       "      <td>NaN</td>\n",
       "      <td>NaN</td>\n",
       "      <td>NaN</td>\n",
       "      <td>ITALY</td>\n",
       "      <td>...</td>\n",
       "      <td>NaN</td>\n",
       "      <td>NaN</td>\n",
       "      <td>NaN</td>\n",
       "      <td>NaN</td>\n",
       "      <td>NaN</td>\n",
       "      <td>NaN</td>\n",
       "      <td>NaN</td>\n",
       "      <td>NaN</td>\n",
       "      <td>NaN</td>\n",
       "      <td>NaN</td>\n",
       "    </tr>\n",
       "    <tr>\n",
       "      <th>7</th>\n",
       "      <td>NaN</td>\n",
       "      <td>-1365.0</td>\n",
       "      <td>NaN</td>\n",
       "      <td>NaN</td>\n",
       "      <td>NaN</td>\n",
       "      <td>NaN</td>\n",
       "      <td>NaN</td>\n",
       "      <td>4.0</td>\n",
       "      <td>NaN</td>\n",
       "      <td>SYRIA</td>\n",
       "      <td>...</td>\n",
       "      <td>NaN</td>\n",
       "      <td>NaN</td>\n",
       "      <td>NaN</td>\n",
       "      <td>NaN</td>\n",
       "      <td>NaN</td>\n",
       "      <td>3.0</td>\n",
       "      <td>NaN</td>\n",
       "      <td>NaN</td>\n",
       "      <td>NaN</td>\n",
       "      <td>NaN</td>\n",
       "    </tr>\n",
       "    <tr>\n",
       "      <th>8</th>\n",
       "      <td>NaN</td>\n",
       "      <td>-1250.0</td>\n",
       "      <td>NaN</td>\n",
       "      <td>NaN</td>\n",
       "      <td>NaN</td>\n",
       "      <td>NaN</td>\n",
       "      <td>0.0</td>\n",
       "      <td>NaN</td>\n",
       "      <td>NaN</td>\n",
       "      <td>ISRAEL</td>\n",
       "      <td>...</td>\n",
       "      <td>NaN</td>\n",
       "      <td>NaN</td>\n",
       "      <td>NaN</td>\n",
       "      <td>NaN</td>\n",
       "      <td>NaN</td>\n",
       "      <td>NaN</td>\n",
       "      <td>NaN</td>\n",
       "      <td>NaN</td>\n",
       "      <td>NaN</td>\n",
       "      <td>NaN</td>\n",
       "    </tr>\n",
       "    <tr>\n",
       "      <th>9</th>\n",
       "      <td>NaN</td>\n",
       "      <td>-1050.0</td>\n",
       "      <td>NaN</td>\n",
       "      <td>NaN</td>\n",
       "      <td>NaN</td>\n",
       "      <td>NaN</td>\n",
       "      <td>0.0</td>\n",
       "      <td>NaN</td>\n",
       "      <td>NaN</td>\n",
       "      <td>JORDAN</td>\n",
       "      <td>...</td>\n",
       "      <td>NaN</td>\n",
       "      <td>NaN</td>\n",
       "      <td>NaN</td>\n",
       "      <td>NaN</td>\n",
       "      <td>NaN</td>\n",
       "      <td>NaN</td>\n",
       "      <td>NaN</td>\n",
       "      <td>NaN</td>\n",
       "      <td>NaN</td>\n",
       "      <td>NaN</td>\n",
       "    </tr>\n",
       "  </tbody>\n",
       "</table>\n",
       "<p>10 rows × 48 columns</p>\n",
       "</div>"
      ],
      "text/plain": [
       "  Search Parameters    Year  Mo  Dy  Hr  Mn  Sec  Tsu     Vol       Country  \\\n",
       "0                []     NaN NaN NaN NaN NaN  NaN  NaN     NaN           NaN   \n",
       "1               NaN -2150.0 NaN NaN NaN NaN  0.0  NaN     NaN        JORDAN   \n",
       "2               NaN -2000.0 NaN NaN NaN NaN  NaN  1.0     NaN         SYRIA   \n",
       "3               NaN -2000.0 NaN NaN NaN NaN  NaN  NaN     NaN  TURKMENISTAN   \n",
       "4               NaN -1610.0 NaN NaN NaN NaN  NaN  3.0  1351.0        GREECE   \n",
       "5               NaN -1566.0 NaN NaN NaN NaN  0.0  NaN     NaN        ISRAEL   \n",
       "6               NaN -1450.0 NaN NaN NaN NaN  NaN  NaN     NaN         ITALY   \n",
       "7               NaN -1365.0 NaN NaN NaN NaN  NaN  4.0     NaN         SYRIA   \n",
       "8               NaN -1250.0 NaN NaN NaN NaN  0.0  NaN     NaN        ISRAEL   \n",
       "9               NaN -1050.0 NaN NaN NaN NaN  0.0  NaN     NaN        JORDAN   \n",
       "\n",
       "   ... Total Missing  Total Missing Description Total Injuries  \\\n",
       "0  ...           NaN                        NaN            NaN   \n",
       "1  ...           NaN                        NaN            NaN   \n",
       "2  ...           NaN                        NaN            NaN   \n",
       "3  ...           NaN                        NaN            NaN   \n",
       "4  ...           NaN                        NaN            NaN   \n",
       "5  ...           NaN                        NaN            NaN   \n",
       "6  ...           NaN                        NaN            NaN   \n",
       "7  ...           NaN                        NaN            NaN   \n",
       "8  ...           NaN                        NaN            NaN   \n",
       "9  ...           NaN                        NaN            NaN   \n",
       "\n",
       "   Total Injuries Description  Total Damage ($Mil)  Total Damage Description  \\\n",
       "0                         NaN                  NaN                       NaN   \n",
       "1                         NaN                  NaN                       NaN   \n",
       "2                         NaN                  NaN                       NaN   \n",
       "3                         NaN                  NaN                       1.0   \n",
       "4                         NaN                  NaN                       3.0   \n",
       "5                         NaN                  NaN                       NaN   \n",
       "6                         NaN                  NaN                       NaN   \n",
       "7                         NaN                  NaN                       3.0   \n",
       "8                         NaN                  NaN                       NaN   \n",
       "9                         NaN                  NaN                       NaN   \n",
       "\n",
       "   Total Houses Destroyed  Total Houses Destroyed Description  \\\n",
       "0                     NaN                                 NaN   \n",
       "1                     NaN                                 NaN   \n",
       "2                     NaN                                 NaN   \n",
       "3                     NaN                                 1.0   \n",
       "4                     NaN                                 NaN   \n",
       "5                     NaN                                 NaN   \n",
       "6                     NaN                                 NaN   \n",
       "7                     NaN                                 NaN   \n",
       "8                     NaN                                 NaN   \n",
       "9                     NaN                                 NaN   \n",
       "\n",
       "   Total Houses Damaged  Total Houses Damaged Description  \n",
       "0                   NaN                               NaN  \n",
       "1                   NaN                               NaN  \n",
       "2                   NaN                               NaN  \n",
       "3                   NaN                               NaN  \n",
       "4                   NaN                               NaN  \n",
       "5                   NaN                               NaN  \n",
       "6                   NaN                               NaN  \n",
       "7                   NaN                               NaN  \n",
       "8                   NaN                               NaN  \n",
       "9                   NaN                               NaN  \n",
       "\n",
       "[10 rows x 48 columns]"
      ]
     },
     "execution_count": 1,
     "metadata": {},
     "output_type": "execute_result"
    }
   ],
   "source": [
    "import pandas as pd\n",
    "import numpy as np\n",
    "from matplotlib import pyplot as plt  # import matplotlib\n",
    "import warnings\n",
    "warnings.filterwarnings(\"ignore\")     #忽略warnings\n",
    "\n",
    "Sig_Eqs = pd.read_csv('earthquakes-2022-10-28_09-02-42_+0800.tsv', sep='\\t')\n",
    "Sig_Eqs.head(10)"
   ]
  },
  {
   "cell_type": "markdown",
   "id": "512fc9b4",
   "metadata": {},
   "source": [
    "#### 1.1 [5 points] Compute the total number of deaths caused by earthquakes since 2150 B.C. in each country, and then print the top 20 countries along with the total number of deaths."
   ]
  },
  {
   "cell_type": "code",
   "execution_count": 2,
   "id": "e06aea76",
   "metadata": {},
   "outputs": [
    {
     "data": {
      "text/html": [
       "<div>\n",
       "<style scoped>\n",
       "    .dataframe tbody tr th:only-of-type {\n",
       "        vertical-align: middle;\n",
       "    }\n",
       "\n",
       "    .dataframe tbody tr th {\n",
       "        vertical-align: top;\n",
       "    }\n",
       "\n",
       "    .dataframe thead th {\n",
       "        text-align: right;\n",
       "    }\n",
       "</style>\n",
       "<table border=\"1\" class=\"dataframe\">\n",
       "  <thead>\n",
       "    <tr style=\"text-align: right;\">\n",
       "      <th></th>\n",
       "      <th>Total Deaths</th>\n",
       "    </tr>\n",
       "    <tr>\n",
       "      <th>Country</th>\n",
       "      <th></th>\n",
       "    </tr>\n",
       "  </thead>\n",
       "  <tbody>\n",
       "    <tr>\n",
       "      <th>CHINA</th>\n",
       "      <td>2041903.0</td>\n",
       "    </tr>\n",
       "    <tr>\n",
       "      <th>TURKEY</th>\n",
       "      <td>927459.0</td>\n",
       "    </tr>\n",
       "    <tr>\n",
       "      <th>IRAN</th>\n",
       "      <td>758647.0</td>\n",
       "    </tr>\n",
       "    <tr>\n",
       "      <th>SYRIA</th>\n",
       "      <td>437700.0</td>\n",
       "    </tr>\n",
       "    <tr>\n",
       "      <th>ITALY</th>\n",
       "      <td>422678.0</td>\n",
       "    </tr>\n",
       "    <tr>\n",
       "      <th>JAPAN</th>\n",
       "      <td>355140.0</td>\n",
       "    </tr>\n",
       "    <tr>\n",
       "      <th>HAITI</th>\n",
       "      <td>323772.0</td>\n",
       "    </tr>\n",
       "    <tr>\n",
       "      <th>AZERBAIJAN</th>\n",
       "      <td>310119.0</td>\n",
       "    </tr>\n",
       "    <tr>\n",
       "      <th>INDONESIA</th>\n",
       "      <td>282153.0</td>\n",
       "    </tr>\n",
       "    <tr>\n",
       "      <th>ARMENIA</th>\n",
       "      <td>189000.0</td>\n",
       "    </tr>\n",
       "    <tr>\n",
       "      <th>PAKISTAN</th>\n",
       "      <td>143712.0</td>\n",
       "    </tr>\n",
       "    <tr>\n",
       "      <th>ECUADOR</th>\n",
       "      <td>134428.0</td>\n",
       "    </tr>\n",
       "    <tr>\n",
       "      <th>TURKMENISTAN</th>\n",
       "      <td>110412.0</td>\n",
       "    </tr>\n",
       "    <tr>\n",
       "      <th>PERU</th>\n",
       "      <td>96161.0</td>\n",
       "    </tr>\n",
       "    <tr>\n",
       "      <th>PORTUGAL</th>\n",
       "      <td>82531.0</td>\n",
       "    </tr>\n",
       "    <tr>\n",
       "      <th>GREECE</th>\n",
       "      <td>80271.0</td>\n",
       "    </tr>\n",
       "    <tr>\n",
       "      <th>IRAQ</th>\n",
       "      <td>70200.0</td>\n",
       "    </tr>\n",
       "    <tr>\n",
       "      <th>CHILE</th>\n",
       "      <td>70174.0</td>\n",
       "    </tr>\n",
       "    <tr>\n",
       "      <th>INDIA</th>\n",
       "      <td>62396.0</td>\n",
       "    </tr>\n",
       "    <tr>\n",
       "      <th>TAIWAN</th>\n",
       "      <td>57705.0</td>\n",
       "    </tr>\n",
       "  </tbody>\n",
       "</table>\n",
       "</div>"
      ],
      "text/plain": [
       "              Total Deaths\n",
       "Country                   \n",
       "CHINA            2041903.0\n",
       "TURKEY            927459.0\n",
       "IRAN              758647.0\n",
       "SYRIA             437700.0\n",
       "ITALY             422678.0\n",
       "JAPAN             355140.0\n",
       "HAITI             323772.0\n",
       "AZERBAIJAN        310119.0\n",
       "INDONESIA         282153.0\n",
       "ARMENIA           189000.0\n",
       "PAKISTAN          143712.0\n",
       "ECUADOR           134428.0\n",
       "TURKMENISTAN      110412.0\n",
       "PERU               96161.0\n",
       "PORTUGAL           82531.0\n",
       "GREECE             80271.0\n",
       "IRAQ               70200.0\n",
       "CHILE              70174.0\n",
       "INDIA              62396.0\n",
       "TAIWAN             57705.0"
      ]
     },
     "execution_count": 2,
     "metadata": {},
     "output_type": "execute_result"
    }
   ],
   "source": [
    "q1_1 = Sig_Eqs[['Country','Total Deaths']]\n",
    "nonan_q1_1 = q1_1.dropna(axis=0, how='any')  #Delete the NAN\n",
    "group_q1_1 = nonan_q1_1.groupby('Country').sum()  #group\n",
    "group_q1_1.sort_values('Total Deaths',ascending=False).head(20)"
   ]
  },
  {
   "cell_type": "markdown",
   "id": "8cb685a4",
   "metadata": {},
   "source": [
    "#### 1.2 [10 points] Compute the total number of earthquakes with magnitude larger than 3.0 (use column Ms as the magnitude) worldwide each year, and then plot the time series. Do you observe any trend? Explain why or why not?"
   ]
  },
  {
   "cell_type": "code",
   "execution_count": 3,
   "id": "a2805090",
   "metadata": {
    "scrolled": true
   },
   "outputs": [
    {
     "data": {
      "text/plain": [
       "<AxesSubplot:xlabel='Year'>"
      ]
     },
     "execution_count": 3,
     "metadata": {},
     "output_type": "execute_result"
    },
    {
     "data": {
      "image/png": "[encoded data removed]",
      "text/plain": [
       "<Figure size 432x288 with 1 Axes>"
      ]
     },
     "metadata": {
      "needs_background": "light"
     },
     "output_type": "display_data"
    }
   ],
   "source": [
    "q1_2 = Sig_Eqs[['Year','Ms']]\n",
    "nonan_q1_2 = q1_2.dropna(axis=0, how='any')  #Delete the NAN\n",
    "nonan_q1_2.loc[ (nonan_q1_2['Ms'] > 3.0)].groupby('Year').count().plot()"
   ]
  },
  {
   "cell_type": "markdown",
   "id": "ca18c10b",
   "metadata": {},
   "source": [
    "#### 答：随着时间趋势，3级以上地震变得越来越频繁，可能由于人类在大气中排放了大量的二氧化碳,导致全球气温快速升高,南极、格陵兰和各个大陆的冰川快速融化,融化的冰雪水流入大海,导致地壳的质量在海陆之间重新分配，进而引起地壳运动，导致地震频发；另一方面，可能由于古代地震监测技术不成熟，导致数据缺失。"
   ]
  },
  {
   "cell_type": "markdown",
   "id": "1a0ea6be",
   "metadata": {},
   "source": [
    "#### 1.3 [10 points] Write a function CountEq_LargestEq that returns (1) the total number of earthquakes since 2150 B.C. in a given country AND (2) date and location of the largest earthquake ever happened in this country. Apply CountEq_LargestEq to every country in the file, report your results in a descending order."
   ]
  },
  {
   "cell_type": "code",
   "execution_count": 4,
   "id": "ebe3d195",
   "metadata": {},
   "outputs": [
    {
     "data": {
      "text/html": [
       "<div>\n",
       "<style scoped>\n",
       "    .dataframe tbody tr th:only-of-type {\n",
       "        vertical-align: middle;\n",
       "    }\n",
       "\n",
       "    .dataframe tbody tr th {\n",
       "        vertical-align: top;\n",
       "    }\n",
       "\n",
       "    .dataframe thead th {\n",
       "        text-align: right;\n",
       "    }\n",
       "</style>\n",
       "<table border=\"1\" class=\"dataframe\">\n",
       "  <thead>\n",
       "    <tr style=\"text-align: right;\">\n",
       "      <th></th>\n",
       "      <th>number</th>\n",
       "      <th>the largest earthquake date</th>\n",
       "      <th>the largest earthquake location</th>\n",
       "    </tr>\n",
       "  </thead>\n",
       "  <tbody>\n",
       "    <tr>\n",
       "      <th>0</th>\n",
       "      <td>616</td>\n",
       "      <td>1920-12-16</td>\n",
       "      <td>CHINA:  GANSU PROVINCE, SHANXI PROVINCE</td>\n",
       "    </tr>\n",
       "    <tr>\n",
       "      <th>1</th>\n",
       "      <td>411</td>\n",
       "      <td>869-7-13</td>\n",
       "      <td>JAPAN:  SANRIKU</td>\n",
       "    </tr>\n",
       "    <tr>\n",
       "      <th>2</th>\n",
       "      <td>411</td>\n",
       "      <td>887-8-26</td>\n",
       "      <td>JAPAN:  NANKAIDO</td>\n",
       "    </tr>\n",
       "    <tr>\n",
       "      <th>3</th>\n",
       "      <td>405</td>\n",
       "      <td>2004-12-26</td>\n",
       "      <td>INDONESIA:  SUMATRA:  ACEH:  OFF WEST COAST</td>\n",
       "    </tr>\n",
       "    <tr>\n",
       "      <th>4</th>\n",
       "      <td>384</td>\n",
       "      <td>856-12-22</td>\n",
       "      <td>IRAN:  DAMGHAN, QUMIS</td>\n",
       "    </tr>\n",
       "    <tr>\n",
       "      <th>...</th>\n",
       "      <td>...</td>\n",
       "      <td>...</td>\n",
       "      <td>...</td>\n",
       "    </tr>\n",
       "    <tr>\n",
       "      <th>147</th>\n",
       "      <td>1</td>\n",
       "      <td>1993-3-12</td>\n",
       "      <td>FUTUNA ISLAND</td>\n",
       "    </tr>\n",
       "    <tr>\n",
       "      <th>148</th>\n",
       "      <td>1</td>\n",
       "      <td>1993-8-1</td>\n",
       "      <td>SUDAN:  KHARTOUM</td>\n",
       "    </tr>\n",
       "    <tr>\n",
       "      <th>149</th>\n",
       "      <td>1</td>\n",
       "      <td>1974-9-23</td>\n",
       "      <td>GABON</td>\n",
       "    </tr>\n",
       "    <tr>\n",
       "      <th>150</th>\n",
       "      <td>1</td>\n",
       "      <td>1819-8-31</td>\n",
       "      <td>NORWAY: RANA REGION: LUROY</td>\n",
       "    </tr>\n",
       "    <tr>\n",
       "      <th>151</th>\n",
       "      <td>1</td>\n",
       "      <td>1914-10-23</td>\n",
       "      <td>MICRONESIA, FED. STATES OF:  CAROLINE ISLANDS</td>\n",
       "    </tr>\n",
       "  </tbody>\n",
       "</table>\n",
       "<p>152 rows × 3 columns</p>\n",
       "</div>"
      ],
      "text/plain": [
       "    number the largest earthquake date  \\\n",
       "0      616                  1920-12-16   \n",
       "1      411                    869-7-13   \n",
       "2      411                    887-8-26   \n",
       "3      405                  2004-12-26   \n",
       "4      384                   856-12-22   \n",
       "..     ...                         ...   \n",
       "147      1                   1993-3-12   \n",
       "148      1                    1993-8-1   \n",
       "149      1                   1974-9-23   \n",
       "150      1                   1819-8-31   \n",
       "151      1                  1914-10-23   \n",
       "\n",
       "                   the largest earthquake location  \n",
       "0          CHINA:  GANSU PROVINCE, SHANXI PROVINCE  \n",
       "1                                  JAPAN:  SANRIKU  \n",
       "2                                 JAPAN:  NANKAIDO  \n",
       "3      INDONESIA:  SUMATRA:  ACEH:  OFF WEST COAST  \n",
       "4                            IRAN:  DAMGHAN, QUMIS  \n",
       "..                                             ...  \n",
       "147                                  FUTUNA ISLAND  \n",
       "148                               SUDAN:  KHARTOUM  \n",
       "149                                          GABON  \n",
       "150                     NORWAY: RANA REGION: LUROY  \n",
       "151  MICRONESIA, FED. STATES OF:  CAROLINE ISLANDS  \n",
       "\n",
       "[152 rows x 3 columns]"
      ]
     },
     "execution_count": 4,
     "metadata": {},
     "output_type": "execute_result"
    }
   ],
   "source": [
    "def CountEq_LargestEq (cry):            #cry为输入的国家名称\n",
    "    eqnum = Sig_Eqs.loc[Sig_Eqs['Country'] == cry].Country.value_counts().item()  #返回cry国家的地震总数\n",
    "    q1_3=Sig_Eqs.loc[Sig_Eqs.Country == cry]\n",
    "    maxinfo=q1_3.loc[ q1_3['Ms'] == q1_3.Ms.max()]        #选取Ms最大值所在行\n",
    "    maxinfo = maxinfo.fillna(0)                         #用0替换NAN\n",
    "    data = []\n",
    "    for i in range(maxinfo['Location Name'].ravel().shape[0]):\n",
    "        data.append([eqnum,\n",
    "                     maxinfo[['Year', 'Mo', 'Dy']].astype(int).astype(str).agg('-'.join, axis=1).ravel()[i],\n",
    "                     maxinfo['Location Name'].ravel()[i]])\n",
    "    df = pd.DataFrame(data,columns=['number',\n",
    "                                    'the largest earthquake date','the largest earthquake location'])\n",
    "    return df\n",
    "\n",
    "allcry = Sig_Eqs.Country.unique()     #提取所有的国家名称\n",
    "result = [] \n",
    "for i in range(1,len(allcry)):        #循环向CountEq_LargestEq输入所有国家并整合\n",
    "    result.append(CountEq_LargestEq(allcry[i]))\n",
    "    \n",
    "frame = pd.concat(result, axis=0)\n",
    "endframe = frame.sort_values(\"number\", ascending=False)   #降序排列\n",
    "endframe.reset_index(drop=True, inplace=True)     #重置index\n",
    "endframe"
   ]
  },
  {
   "cell_type": "markdown",
   "id": "0b32b32d",
   "metadata": {},
   "source": [
    "# 2. Air temperature in Shenzhen during the past 25 years"
   ]
  },
  {
   "cell_type": "markdown",
   "id": "32b8914d",
   "metadata": {},
   "source": [
    "In this problem set, we will examine how air temperature changes in Shenzhen during the past 25 years using the hourly weather data measured at the BaoAn International Airport. The data set is from NOAA Integrated Surface Dataset. Download the file Baoan_Weather_1998_2022.csv, move the .csv file to your working directory."
   ]
  },
  {
   "cell_type": "markdown",
   "id": "d067fba5",
   "metadata": {},
   "source": [
    "Read page 10-11 (POS 88-92 and POS 93-93) of the comprehensive user guide for the detailed format of the air temperature data (use column TMP). Explain how you filter the data in your report."
   ]
  },
  {
   "cell_type": "markdown",
   "id": "55505d67",
   "metadata": {},
   "source": [
    "   ####  答：读取Baoan_Weather_1998_2022.csv文件时，把+9999设置为NAN,TMP列出现异常值将全部清洗，只使用TMP列逗号后面为1的值，其余值所在行删除，并检查是否有负值再做进一步处理。"
   ]
  },
  {
   "cell_type": "markdown",
   "id": "aa14a1ef",
   "metadata": {},
   "source": [
    "#### [10 points] Plot monthly averaged air temperature against the observation time. Is there a trend in monthly averaged air temperature in the past 25 years?\n",
    "\n"
   ]
  },
  {
   "cell_type": "code",
   "execution_count": 5,
   "id": "7c2ac14a",
   "metadata": {
    "scrolled": true
   },
   "outputs": [
    {
     "data": {
      "image/png": "[encoded data removed]",
      "text/plain": [
       "<Figure size 432x288 with 1 Axes>"
      ]
     },
     "metadata": {
      "needs_background": "light"
     },
     "output_type": "display_data"
    }
   ],
   "source": [
    "Baoan_Weather = pd.read_csv(\"Baoan_Weather_1998_2022.csv\",\n",
    "                            low_memory=False,\n",
    "                            na_values=['+9999'])     #读取aoan_Weather_1998_2022.csv，并设置+9999为NAN\n",
    "split1 = pd.DataFrame()\n",
    "split2 = pd.DataFrame()\n",
    "split1[['DATE','TIME']] = Baoan_Weather[\"DATE\"].str.split('T',expand=True)\n",
    "split2[['TMP','CODE']]=Baoan_Weather[\"TMP\"].str.split(',',expand=True)\n",
    "data = pd.concat([split1,split2],axis=1)                \n",
    "data1 = data.loc[data.CODE == '1'][['DATE','TIME','TMP']]    #只提取TMP列逗号后面为1的值对应行\n",
    "data1.TMP = data1.TMP.astype(float)/10          #对TMP进行缩小10倍\n",
    "data1.DATE = pd.to_datetime(data1.DATE)\n",
    "# data1.TMP.unique()     #检查是否有NAN\n",
    "data1['m_y'] = data1.DATE.apply(lambda x: x.strftime('%Y-%m'))    #把data1.DATE中日期都转换成 %Y-%m 格式的字符串\n",
    "data1.groupby('m_y').mean().plot()            # monthly averaged air temperature against the observation time\n",
    "plt.xlabel('Date') \n",
    "plt.ylabel('Averaged air temperature')\n",
    "plt.show()"
   ]
  },
  {
   "cell_type": "markdown",
   "id": "ea403eab",
   "metadata": {},
   "source": [
    "####   答：过去25年内的月平均气温随观测时间有很大的季节性变化，每年的月平均温度从1月份开始都有先升高后降低的趋势。"
   ]
  },
  {
   "cell_type": "markdown",
   "id": "118a8905",
   "metadata": {},
   "source": [
    "# 3. Global collection of hurricanes"
   ]
  },
  {
   "cell_type": "markdown",
   "id": "e84ce5ad",
   "metadata": {},
   "source": [
    "In this problem set, we will use all storms available in the IBTrACS record since 1842. Download the file ibtracs.ALL.list.v04r00.csv, move the .csv file to your working directory. Read Column Variable Descriptions for variables in the file. Examine the first few lines of the file."
   ]
  },
  {
   "cell_type": "code",
   "execution_count": 6,
   "id": "01c397fd",
   "metadata": {},
   "outputs": [
    {
     "data": {
      "text/html": [
       "<div>\n",
       "<style scoped>\n",
       "    .dataframe tbody tr th:only-of-type {\n",
       "        vertical-align: middle;\n",
       "    }\n",
       "\n",
       "    .dataframe tbody tr th {\n",
       "        vertical-align: top;\n",
       "    }\n",
       "\n",
       "    .dataframe thead th {\n",
       "        text-align: right;\n",
       "    }\n",
       "</style>\n",
       "<table border=\"1\" class=\"dataframe\">\n",
       "  <thead>\n",
       "    <tr style=\"text-align: right;\">\n",
       "      <th></th>\n",
       "      <th>SID</th>\n",
       "      <th>SEASON</th>\n",
       "      <th>NUMBER</th>\n",
       "      <th>BASIN</th>\n",
       "      <th>SUBBASIN</th>\n",
       "      <th>NAME</th>\n",
       "      <th>ISO_TIME</th>\n",
       "      <th>NATURE</th>\n",
       "      <th>LAT</th>\n",
       "      <th>LON</th>\n",
       "      <th>WMO_WIND</th>\n",
       "      <th>WMO_PRES</th>\n",
       "      <th>WMO_AGENCY</th>\n",
       "      <th>TRACK_TYPE</th>\n",
       "      <th>DIST2LAND</th>\n",
       "      <th>LANDFALL</th>\n",
       "      <th>IFLAG</th>\n",
       "    </tr>\n",
       "  </thead>\n",
       "  <tbody>\n",
       "    <tr>\n",
       "      <th>211958</th>\n",
       "      <td>1945110N09160</td>\n",
       "      <td>1945</td>\n",
       "      <td>22</td>\n",
       "      <td>WP</td>\n",
       "      <td>MM</td>\n",
       "      <td>ANN</td>\n",
       "      <td>1945-04-19 12:00:00</td>\n",
       "      <td>TS</td>\n",
       "      <td>9.50000</td>\n",
       "      <td>160.300</td>\n",
       "      <td></td>\n",
       "      <td></td>\n",
       "      <td></td>\n",
       "      <td>main</td>\n",
       "      <td>1704</td>\n",
       "      <td>1692</td>\n",
       "      <td>O________OOO__</td>\n",
       "    </tr>\n",
       "    <tr>\n",
       "      <th>211959</th>\n",
       "      <td>1945110N09160</td>\n",
       "      <td>1945</td>\n",
       "      <td>22</td>\n",
       "      <td>WP</td>\n",
       "      <td>MM</td>\n",
       "      <td>ANN</td>\n",
       "      <td>1945-04-19 15:00:00</td>\n",
       "      <td>TS</td>\n",
       "      <td>9.55082</td>\n",
       "      <td>160.098</td>\n",
       "      <td></td>\n",
       "      <td></td>\n",
       "      <td></td>\n",
       "      <td>main</td>\n",
       "      <td>1701</td>\n",
       "      <td>1690</td>\n",
       "      <td>P________PPP__</td>\n",
       "    </tr>\n",
       "    <tr>\n",
       "      <th>211960</th>\n",
       "      <td>1945110N09160</td>\n",
       "      <td>1945</td>\n",
       "      <td>22</td>\n",
       "      <td>WP</td>\n",
       "      <td>MM</td>\n",
       "      <td>ANN</td>\n",
       "      <td>1945-04-19 18:00:00</td>\n",
       "      <td>TS</td>\n",
       "      <td>9.58375</td>\n",
       "      <td>159.932</td>\n",
       "      <td></td>\n",
       "      <td></td>\n",
       "      <td></td>\n",
       "      <td>main</td>\n",
       "      <td>1690</td>\n",
       "      <td>1684</td>\n",
       "      <td>O________OPO__</td>\n",
       "    </tr>\n",
       "    <tr>\n",
       "      <th>211961</th>\n",
       "      <td>1945110N09160</td>\n",
       "      <td>1945</td>\n",
       "      <td>22</td>\n",
       "      <td>WP</td>\n",
       "      <td>MM</td>\n",
       "      <td>ANN</td>\n",
       "      <td>1945-04-19 21:00:00</td>\n",
       "      <td>TS</td>\n",
       "      <td>9.59044</td>\n",
       "      <td>159.819</td>\n",
       "      <td></td>\n",
       "      <td></td>\n",
       "      <td></td>\n",
       "      <td>main</td>\n",
       "      <td>1684</td>\n",
       "      <td>1678</td>\n",
       "      <td>P________PPP__</td>\n",
       "    </tr>\n",
       "    <tr>\n",
       "      <th>211962</th>\n",
       "      <td>1945110N09160</td>\n",
       "      <td>1945</td>\n",
       "      <td>22</td>\n",
       "      <td>WP</td>\n",
       "      <td>MM</td>\n",
       "      <td>ANN</td>\n",
       "      <td>1945-04-20 00:00:00</td>\n",
       "      <td>TS</td>\n",
       "      <td>9.60000</td>\n",
       "      <td>159.700</td>\n",
       "      <td></td>\n",
       "      <td></td>\n",
       "      <td></td>\n",
       "      <td>main</td>\n",
       "      <td>1678</td>\n",
       "      <td>1667</td>\n",
       "      <td>O________OOO__</td>\n",
       "    </tr>\n",
       "  </tbody>\n",
       "</table>\n",
       "</div>"
      ],
      "text/plain": [
       "                  SID  SEASON  NUMBER BASIN SUBBASIN NAME            ISO_TIME  \\\n",
       "211958  1945110N09160    1945      22    WP       MM  ANN 1945-04-19 12:00:00   \n",
       "211959  1945110N09160    1945      22    WP       MM  ANN 1945-04-19 15:00:00   \n",
       "211960  1945110N09160    1945      22    WP       MM  ANN 1945-04-19 18:00:00   \n",
       "211961  1945110N09160    1945      22    WP       MM  ANN 1945-04-19 21:00:00   \n",
       "211962  1945110N09160    1945      22    WP       MM  ANN 1945-04-20 00:00:00   \n",
       "\n",
       "       NATURE      LAT      LON WMO_WIND WMO_PRES WMO_AGENCY TRACK_TYPE  \\\n",
       "211958     TS  9.50000  160.300                                    main   \n",
       "211959     TS  9.55082  160.098                                    main   \n",
       "211960     TS  9.58375  159.932                                    main   \n",
       "211961     TS  9.59044  159.819                                    main   \n",
       "211962     TS  9.60000  159.700                                    main   \n",
       "\n",
       "        DIST2LAND LANDFALL           IFLAG  \n",
       "211958       1704     1692  O________OOO__  \n",
       "211959       1701     1690  P________PPP__  \n",
       "211960       1690     1684  O________OPO__  \n",
       "211961       1684     1678  P________PPP__  \n",
       "211962       1678     1667  O________OOO__  "
      ]
     },
     "execution_count": 6,
     "metadata": {},
     "output_type": "execute_result"
    }
   ],
   "source": [
    "df = pd.read_csv('ibtracs.ALL.list.v04r00.csv',\n",
    "                 usecols=range(17),\n",
    "                 skiprows=[1],        # Modify the first line is not deleted\n",
    "                 parse_dates=['ISO_TIME'],\n",
    "                 na_values=['NOT_NAMED', 'NAME'])\n",
    "df.dropna(axis = 0,subset=['NAME'],inplace = True)   #删除没有NAME的hurricanes\n",
    "df.head()"
   ]
  },
  {
   "cell_type": "markdown",
   "id": "cee795a4",
   "metadata": {},
   "source": [
    "#### 3.1 [5 points] Group the data on Storm Identifie (SID), report names (NAME) of the 10 largest hurricanes according to wind speed (WMO_WIND)."
   ]
  },
  {
   "cell_type": "code",
   "execution_count": 7,
   "id": "28a9cc79",
   "metadata": {
    "scrolled": false
   },
   "outputs": [
    {
     "data": {
      "text/html": [
       "<div>\n",
       "<style scoped>\n",
       "    .dataframe tbody tr th:only-of-type {\n",
       "        vertical-align: middle;\n",
       "    }\n",
       "\n",
       "    .dataframe tbody tr th {\n",
       "        vertical-align: top;\n",
       "    }\n",
       "\n",
       "    .dataframe thead th {\n",
       "        text-align: right;\n",
       "    }\n",
       "</style>\n",
       "<table border=\"1\" class=\"dataframe\">\n",
       "  <thead>\n",
       "    <tr style=\"text-align: right;\">\n",
       "      <th></th>\n",
       "      <th>NAME</th>\n",
       "      <th>WMO_WIND</th>\n",
       "    </tr>\n",
       "    <tr>\n",
       "      <th>SID</th>\n",
       "      <th></th>\n",
       "      <th></th>\n",
       "    </tr>\n",
       "  </thead>\n",
       "  <tbody>\n",
       "    <tr>\n",
       "      <th>2015293N13266</th>\n",
       "      <td>PATRICIA</td>\n",
       "      <td>185</td>\n",
       "    </tr>\n",
       "    <tr>\n",
       "      <th>1980214N11330</th>\n",
       "      <td>ALLEN</td>\n",
       "      <td>165</td>\n",
       "    </tr>\n",
       "    <tr>\n",
       "      <th>1988253N12306</th>\n",
       "      <td>GILBERT</td>\n",
       "      <td>160</td>\n",
       "    </tr>\n",
       "    <tr>\n",
       "      <th>2005289N18282</th>\n",
       "      <td>WILMA</td>\n",
       "      <td>160</td>\n",
       "    </tr>\n",
       "    <tr>\n",
       "      <th>1997253N12255</th>\n",
       "      <td>LINDA</td>\n",
       "      <td>160</td>\n",
       "    </tr>\n",
       "    <tr>\n",
       "      <th>2019236N10314</th>\n",
       "      <td>DORIAN</td>\n",
       "      <td>160</td>\n",
       "    </tr>\n",
       "    <tr>\n",
       "      <th>2009288N07267</th>\n",
       "      <td>RICK</td>\n",
       "      <td>155</td>\n",
       "    </tr>\n",
       "    <tr>\n",
       "      <th>2017242N16333</th>\n",
       "      <td>IRMA</td>\n",
       "      <td>155</td>\n",
       "    </tr>\n",
       "    <tr>\n",
       "      <th>2005261N21290</th>\n",
       "      <td>RITA</td>\n",
       "      <td>155</td>\n",
       "    </tr>\n",
       "    <tr>\n",
       "      <th>1998295N12284</th>\n",
       "      <td>MITCH</td>\n",
       "      <td>155</td>\n",
       "    </tr>\n",
       "  </tbody>\n",
       "</table>\n",
       "</div>"
      ],
      "text/plain": [
       "                   NAME  WMO_WIND\n",
       "SID                              \n",
       "2015293N13266  PATRICIA       185\n",
       "1980214N11330     ALLEN       165\n",
       "1988253N12306   GILBERT       160\n",
       "2005289N18282     WILMA       160\n",
       "1997253N12255     LINDA       160\n",
       "2019236N10314    DORIAN       160\n",
       "2009288N07267      RICK       155\n",
       "2017242N16333      IRMA       155\n",
       "2005261N21290      RITA       155\n",
       "1998295N12284     MITCH       155"
      ]
     },
     "execution_count": 7,
     "metadata": {},
     "output_type": "execute_result"
    }
   ],
   "source": [
    "q3_1 = df[['SID','NAME','WMO_WIND']]\n",
    "deal = q3_1[q3_1[\"WMO_WIND\"]!=' ']       #选取WMO_WIND有效值对应行\n",
    "deal['NAME'] = deal['NAME'].fillna(0)        #用0替换NAN\n",
    "deal.WMO_WIND = deal.WMO_WIND.astype(\"int\")\n",
    "larg = deal.groupby(\"SID\").max().sort_values('WMO_WIND',ascending=False)\n",
    "larg.head(10)"
   ]
  },
  {
   "cell_type": "markdown",
   "id": "4a507085",
   "metadata": {},
   "source": [
    "#### 3.2 [5 points] Make a bar chart of the wind speed (WMO_WIND) of the 20 strongest-wind hurricanes."
   ]
  },
  {
   "cell_type": "code",
   "execution_count": 8,
   "id": "45a55412",
   "metadata": {
    "scrolled": false
   },
   "outputs": [
    {
     "data": {
      "image/png": "[encoded data removed]",
      "text/plain": [
       "<Figure size 432x288 with 1 Axes>"
      ]
     },
     "metadata": {
      "needs_background": "light"
     },
     "output_type": "display_data"
    }
   ],
   "source": [
    "larg20 = larg.iloc[0:20]\n",
    "larg20.set_index([\"NAME\"], inplace=True)   #替换index\n",
    "larg20.plot(kind ='bar')\n",
    "plt.show()"
   ]
  },
  {
   "cell_type": "markdown",
   "id": "fd36c8fc",
   "metadata": {},
   "source": [
    "#### 3.3 [5 points] Plot the count of all datapoints by Basin as a bar chart."
   ]
  },
  {
   "cell_type": "code",
   "execution_count": 9,
   "id": "1350dd11",
   "metadata": {
    "scrolled": true
   },
   "outputs": [
    {
     "data": {
      "image/png": "[encoded data removed]",
      "text/plain": [
       "<Figure size 432x288 with 1 Axes>"
      ]
     },
     "metadata": {
      "needs_background": "light"
     },
     "output_type": "display_data"
    }
   ],
   "source": [
    "Basin = df['BASIN'].dropna(axis=0).value_counts().plot(kind='bar')"
   ]
  },
  {
   "cell_type": "markdown",
   "id": "886324ea",
   "metadata": {},
   "source": [
    "#### 3.4 [5 points] Make a hexbin plot of the location of datapoints in Latitude and Longitude."
   ]
  },
  {
   "cell_type": "code",
   "execution_count": 10,
   "id": "2f253450",
   "metadata": {},
   "outputs": [
    {
     "data": {
      "text/plain": [
       "<matplotlib.collections.PolyCollection at 0x1c032db38e0>"
      ]
     },
     "execution_count": 10,
     "metadata": {},
     "output_type": "execute_result"
    },
    {
     "data": {
      "image/png": "[encoded data removed]",
      "text/plain": [
       "<Figure size 432x288 with 1 Axes>"
      ]
     },
     "metadata": {
      "needs_background": "light"
     },
     "output_type": "display_data"
    }
   ],
   "source": [
    "plt.hexbin(df.LON,df.LAT)"
   ]
  },
  {
   "cell_type": "markdown",
   "id": "25b6207a",
   "metadata": {},
   "source": [
    "#### 3.5 [5 points] Find Typhoon Mangkhut (from 2018) and plot its track as a scatter plot."
   ]
  },
  {
   "cell_type": "code",
   "execution_count": 11,
   "id": "6ef80e2a",
   "metadata": {},
   "outputs": [
    {
     "data": {
      "image/png": "[encoded data removed]",
      "text/plain": [
       "<Figure size 432x288 with 1 Axes>"
      ]
     },
     "metadata": {
      "needs_background": "light"
     },
     "output_type": "display_data"
    }
   ],
   "source": [
    "df.loc[(df.NAME == 'MANGKHUT') & (df.SEASON == 2018 )].plot.scatter(x='LON',\n",
    "                                                                    y='LAT',\n",
    "                                                                    c='DarkBlue')\n",
    "plt.xlim(75, 180)\n",
    "plt.ylim(-40, 60)\n",
    "plt.show()"
   ]
  },
  {
   "cell_type": "markdown",
   "id": "adcb9f30",
   "metadata": {},
   "source": [
    "#### 3.6 [5 points] Create a filtered dataframe that contains only data since 1970 from the Western North Pacific (“WP”) and Eastern North Pacific (“EP”) Basin. Use this for the rest of the problem set.m"
   ]
  },
  {
   "cell_type": "code",
   "execution_count": 12,
   "id": "1b2346cf",
   "metadata": {},
   "outputs": [
    {
     "data": {
      "text/html": [
       "<div>\n",
       "<style scoped>\n",
       "    .dataframe tbody tr th:only-of-type {\n",
       "        vertical-align: middle;\n",
       "    }\n",
       "\n",
       "    .dataframe tbody tr th {\n",
       "        vertical-align: top;\n",
       "    }\n",
       "\n",
       "    .dataframe thead th {\n",
       "        text-align: right;\n",
       "    }\n",
       "</style>\n",
       "<table border=\"1\" class=\"dataframe\">\n",
       "  <thead>\n",
       "    <tr style=\"text-align: right;\">\n",
       "      <th></th>\n",
       "      <th>SID</th>\n",
       "      <th>SEASON</th>\n",
       "      <th>NUMBER</th>\n",
       "      <th>BASIN</th>\n",
       "      <th>SUBBASIN</th>\n",
       "      <th>NAME</th>\n",
       "      <th>ISO_TIME</th>\n",
       "      <th>NATURE</th>\n",
       "      <th>LAT</th>\n",
       "      <th>LON</th>\n",
       "      <th>WMO_WIND</th>\n",
       "      <th>WMO_PRES</th>\n",
       "      <th>WMO_AGENCY</th>\n",
       "      <th>TRACK_TYPE</th>\n",
       "      <th>DIST2LAND</th>\n",
       "      <th>LANDFALL</th>\n",
       "      <th>IFLAG</th>\n",
       "    </tr>\n",
       "  </thead>\n",
       "  <tbody>\n",
       "    <tr>\n",
       "      <th>350394</th>\n",
       "      <td>1970050N07151</td>\n",
       "      <td>1970</td>\n",
       "      <td>22</td>\n",
       "      <td>WP</td>\n",
       "      <td>MM</td>\n",
       "      <td>NANCY</td>\n",
       "      <td>1970-02-19 00:00:00</td>\n",
       "      <td>TS</td>\n",
       "      <td>7.00000</td>\n",
       "      <td>151.400</td>\n",
       "      <td></td>\n",
       "      <td>1006</td>\n",
       "      <td>tokyo</td>\n",
       "      <td>main</td>\n",
       "      <td>1088</td>\n",
       "      <td>1088</td>\n",
       "      <td>_OO___________</td>\n",
       "    </tr>\n",
       "    <tr>\n",
       "      <th>350395</th>\n",
       "      <td>1970050N07151</td>\n",
       "      <td>1970</td>\n",
       "      <td>22</td>\n",
       "      <td>WP</td>\n",
       "      <td>MM</td>\n",
       "      <td>NANCY</td>\n",
       "      <td>1970-02-19 03:00:00</td>\n",
       "      <td>TS</td>\n",
       "      <td>7.24752</td>\n",
       "      <td>151.205</td>\n",
       "      <td></td>\n",
       "      <td></td>\n",
       "      <td></td>\n",
       "      <td>main</td>\n",
       "      <td>1109</td>\n",
       "      <td>1109</td>\n",
       "      <td>_PP___________</td>\n",
       "    </tr>\n",
       "    <tr>\n",
       "      <th>350396</th>\n",
       "      <td>1970050N07151</td>\n",
       "      <td>1970</td>\n",
       "      <td>22</td>\n",
       "      <td>WP</td>\n",
       "      <td>MM</td>\n",
       "      <td>NANCY</td>\n",
       "      <td>1970-02-19 06:00:00</td>\n",
       "      <td>TS</td>\n",
       "      <td>7.50000</td>\n",
       "      <td>151.000</td>\n",
       "      <td></td>\n",
       "      <td>1002</td>\n",
       "      <td>tokyo</td>\n",
       "      <td>main</td>\n",
       "      <td>1143</td>\n",
       "      <td>1143</td>\n",
       "      <td>_OO___________</td>\n",
       "    </tr>\n",
       "    <tr>\n",
       "      <th>350397</th>\n",
       "      <td>1970050N07151</td>\n",
       "      <td>1970</td>\n",
       "      <td>22</td>\n",
       "      <td>WP</td>\n",
       "      <td>MM</td>\n",
       "      <td>NANCY</td>\n",
       "      <td>1970-02-19 09:00:00</td>\n",
       "      <td>TS</td>\n",
       "      <td>7.75747</td>\n",
       "      <td>150.772</td>\n",
       "      <td></td>\n",
       "      <td></td>\n",
       "      <td></td>\n",
       "      <td>main</td>\n",
       "      <td>1171</td>\n",
       "      <td>1168</td>\n",
       "      <td>_PP___________</td>\n",
       "    </tr>\n",
       "    <tr>\n",
       "      <th>350398</th>\n",
       "      <td>1970050N07151</td>\n",
       "      <td>1970</td>\n",
       "      <td>22</td>\n",
       "      <td>WP</td>\n",
       "      <td>MM</td>\n",
       "      <td>NANCY</td>\n",
       "      <td>1970-02-19 12:00:00</td>\n",
       "      <td>TS</td>\n",
       "      <td>8.00000</td>\n",
       "      <td>150.500</td>\n",
       "      <td></td>\n",
       "      <td>998</td>\n",
       "      <td>tokyo</td>\n",
       "      <td>main</td>\n",
       "      <td>1182</td>\n",
       "      <td>1179</td>\n",
       "      <td>_OO___________</td>\n",
       "    </tr>\n",
       "  </tbody>\n",
       "</table>\n",
       "</div>"
      ],
      "text/plain": [
       "                  SID  SEASON  NUMBER BASIN SUBBASIN   NAME  \\\n",
       "350394  1970050N07151    1970      22    WP       MM  NANCY   \n",
       "350395  1970050N07151    1970      22    WP       MM  NANCY   \n",
       "350396  1970050N07151    1970      22    WP       MM  NANCY   \n",
       "350397  1970050N07151    1970      22    WP       MM  NANCY   \n",
       "350398  1970050N07151    1970      22    WP       MM  NANCY   \n",
       "\n",
       "                  ISO_TIME NATURE      LAT      LON WMO_WIND WMO_PRES  \\\n",
       "350394 1970-02-19 00:00:00     TS  7.00000  151.400              1006   \n",
       "350395 1970-02-19 03:00:00     TS  7.24752  151.205                     \n",
       "350396 1970-02-19 06:00:00     TS  7.50000  151.000              1002   \n",
       "350397 1970-02-19 09:00:00     TS  7.75747  150.772                     \n",
       "350398 1970-02-19 12:00:00     TS  8.00000  150.500               998   \n",
       "\n",
       "       WMO_AGENCY TRACK_TYPE  DIST2LAND LANDFALL           IFLAG  \n",
       "350394      tokyo       main       1088     1088  _OO___________  \n",
       "350395                  main       1109     1109  _PP___________  \n",
       "350396      tokyo       main       1143     1143  _OO___________  \n",
       "350397                  main       1171     1168  _PP___________  \n",
       "350398      tokyo       main       1182     1179  _OO___________  "
      ]
     },
     "execution_count": 12,
     "metadata": {},
     "output_type": "execute_result"
    }
   ],
   "source": [
    "fdf = df.loc[((df.BASIN == 'EP')|(df.BASIN == 'WP')) & (df.SEASON >= 1970 )]\n",
    "fdf.head(5)"
   ]
  },
  {
   "cell_type": "markdown",
   "id": "91bec9c2",
   "metadata": {},
   "source": [
    "#### 3.7 [5 points] Plot the number of datapoints per day."
   ]
  },
  {
   "cell_type": "code",
   "execution_count": 13,
   "id": "5e49d15d",
   "metadata": {},
   "outputs": [
    {
     "data": {
      "text/plain": [
       "<AxesSubplot:xlabel='ISO_TIME'>"
      ]
     },
     "execution_count": 13,
     "metadata": {},
     "output_type": "execute_result"
    },
    {
     "data": {
      "image/png": "[encoded data removed]",
      "text/plain": [
       "<Figure size 432x288 with 1 Axes>"
      ]
     },
     "metadata": {
      "needs_background": "light"
     },
     "output_type": "display_data"
    }
   ],
   "source": [
    "num = fdf.ISO_TIME.groupby(fdf.ISO_TIME.dt.date).count().reset_index(name=\"count\")\n",
    "num.set_index([\"ISO_TIME\"], inplace=True)\n",
    "num.plot()"
   ]
  },
  {
   "cell_type": "markdown",
   "id": "9666e4fb",
   "metadata": {},
   "source": [
    "#### 3.8 [5 points] Calculate the climatology of datapoint counts as a function of day of year. The day of year is the sequential day number starting with day 1 on January 1st."
   ]
  },
  {
   "cell_type": "code",
   "execution_count": 14,
   "id": "139bcd05",
   "metadata": {
    "scrolled": true
   },
   "outputs": [
    {
     "data": {
      "text/plain": [
       "<AxesSubplot:xlabel='doy'>"
      ]
     },
     "execution_count": 14,
     "metadata": {},
     "output_type": "execute_result"
    },
    {
     "data": {
      "image/png": "[encoded data removed]",
      "text/plain": [
       "<Figure size 432x288 with 1 Axes>"
      ]
     },
     "metadata": {
      "needs_background": "light"
     },
     "output_type": "display_data"
    }
   ],
   "source": [
    "import calendar\n",
    "q3_8 = fdf[['SID','ISO_TIME']].reset_index(drop=True)\n",
    "q3_8['m_d'] = q3_8.ISO_TIME.apply(lambda x: x.strftime('%m-%d'))   #生成m_y列为月-日格式\n",
    "q3_8['year'] = q3_8.ISO_TIME.dt.year\n",
    "q3_8['isleap'] = q3_8.year.apply(lambda x: calendar.isleap(x))   # 判断year列是否为闰年，是返回True，否返回False\n",
    "leap = q3_8.loc[q3_8.isleap == True].groupby('m_d').count()   #提取闰年的数据，并按月-日格式分组计数\n",
    "noleap = q3_8.loc[q3_8.isleap == False].groupby('m_d').count()   #提取非闰年的数据，并按月-日格式分组计数\n",
    "#leap.index.unique()   #检查闰年天数，319天需要进行处理\n",
    "#noleap.index.unique()  #检查非闰年天数，正好365天，不需要进行处理    \n",
    "leap['date'] = leap.index    #提取leap的索引作为新的一列\n",
    "leap['month'] = leap.date.str.split(\"-\",expand=True)[0].astype(int)  #把date月和日分别提出来作为一列\n",
    "leap['day'] = leap.date.str.split(\"-\",expand=True)[1].astype(int)\n",
    "month_leapyear=[31,29,31,30,31,30,31,31,30,31,30,31]  \n",
    "def date2doy(month,day):           #只把闰年date转换为doy\n",
    "    doy=0\n",
    "    for i in range(month-1):\n",
    "        doy+=month_leapyear[i]\n",
    "    doy+=day\n",
    "    return doy\n",
    "leap['doy'] = leap.apply(lambda x:date2doy(x['month'],x['day']),axis=1)#把leap中month，day列所有值分别作为参数调用date2doy，生成新一列doc\n",
    "noleap['doy'] = range(1,366)  #由于noleap数据正好365天，所以直接生成1-365数据作为doy列\n",
    "noleap_more = noleap[~noleap[\"doy\"].isin(leap[\"doy\"])][['SID','doy']].reset_index(drop=True)    #非闰年比闰年多发生地震的doy\n",
    "noleap_num= noleap[noleap[\"doy\"].isin(leap[\"doy\"])][['SID','doy']].reset_index(drop=True)  #分别取出闰年和非闰年中共同doy的行数\n",
    "leap_num=leap[leap[\"doy\"].isin(noleap[\"doy\"])][['SID','doy']].reset_index(drop=True)       #SID为发生hurricanes次数\n",
    "doycounts = pd.DataFrame(columns=['SID','doy'])         #创建doycounts用来保存\n",
    "doycounts['doy'] = leap_num['doy']\n",
    "doycounts['SID'] = noleap_num['SID']+leap_num['SID']    #闰年和非闰年发生hurricanes的共同doy的次数相加\n",
    "leap_more = leap[['SID','doy']].loc[leap.doy == 366]     #选取闰年doy为366的行\n",
    "doycounts = pd.concat([doycounts,noleap_more,leap_more]).sort_values(\"doy\").reset_index(drop=True)  #整理合并最终结果并排序\n",
    "doycounts.plot('doy','SID')          "
   ]
  },
  {
   "cell_type": "code",
   "execution_count": 15,
   "id": "17e29b1a",
   "metadata": {},
   "outputs": [
    {
     "name": "stdout",
     "output_type": "stream",
     "text": [
      "Please input doy:365\n"
     ]
    },
    {
     "data": {
      "text/plain": [
       "77"
      ]
     },
     "execution_count": 15,
     "metadata": {},
     "output_type": "execute_result"
    }
   ],
   "source": [
    "def data_count(d):                #输入一个doy，返回doy对应datapoint的总数量\n",
    "    if (d>366)|(d<1):\n",
    "        return 'NAN'\n",
    "    else:\n",
    "        return doycounts.loc[doycounts['doy']==d]['SID'].item()\n",
    "data_count(int(input(\"Please input doy:\")))"
   ]
  },
  {
   "cell_type": "markdown",
   "id": "adc22220",
   "metadata": {},
   "source": [
    "#### 3.9 [5 points] Calculate the anomaly of daily counts from the climatology."
   ]
  },
  {
   "cell_type": "code",
   "execution_count": 16,
   "id": "1e39103b",
   "metadata": {},
   "outputs": [
    {
     "data": {
      "text/plain": [
       "[<matplotlib.lines.Line2D at 0x1c02efabd00>]"
      ]
     },
     "execution_count": 16,
     "metadata": {},
     "output_type": "execute_result"
    },
    {
     "data": {
      "image/png": "[encoded data removed]",
      "text/plain": [
       "<Figure size 432x288 with 1 Axes>"
      ]
     },
     "metadata": {
      "needs_background": "light"
     },
     "output_type": "display_data"
    }
   ],
   "source": [
    "#因为数据只到2022.10.1，所以doy=284之后只需平均52年，之前需要平均53年，闰年13年\n",
    "mean=doycounts.copy()\n",
    "mean.loc[0:283,'SID']= doycounts.loc[0:283]['SID']/53\n",
    "mean.loc[284:364,'SID']= doycounts.loc[284:364]['SID']/52\n",
    "mean.loc[365,'SID']= doycounts.loc[365]['SID']/13\n",
    "\n",
    "con = fdf.groupby(fdf.ISO_TIME.dt.date).count()[['SID','ISO_TIME']]\n",
    "con['date'] = con.index \n",
    "con['date'] = con.date.apply(lambda x: x.strftime('%Y-%m-%d'))\n",
    "con['year'] = con.date.str.split(\"-\",expand=True)[0].astype(int)  \n",
    "con['month'] = con.date.str.split(\"-\",expand=True)[1].astype(int)\n",
    "con['day'] = con.date.str.split(\"-\",expand=True)[2].astype(int)\n",
    "\n",
    "def date2doy(year,month,day):          #闰年和非闰年日期转换doy\n",
    "            month_leapyear=[31,29,31,30,31,30,31,31,30,31,30,31]\n",
    "            month_notleap= [31,28,31,30,31,30,31,31,30,31,30,31]\n",
    "            doy=0\n",
    "\n",
    "            if month==1:\n",
    "                  pass\n",
    "            elif year%4==0 and (year%100!=0 or year%400==0):\n",
    "                  for i in range(month-1):\n",
    "                          doy+=month_leapyear[i]\n",
    "            else:\n",
    "                  for i in range(month-1):\n",
    "                          doy+=month_notleap[i]\n",
    "            doy+=day            \n",
    "            return func(doy)\n",
    "def func(d):\n",
    "    return mean.loc[mean.doy==d]['SID'].item()\n",
    "\n",
    "con['mean']=con.apply(lambda x: date2doy(x['year'],x['month'],x['day']),axis=1)\n",
    "con['anomaly']= con['SID']-con['mean']   #con.anomaly作图可视化为计算出的 the anomaly of daily counts from the climatology\n",
    "plt.plot(con.anomaly)                   #对con.anomaly作图可视化"
   ]
  },
  {
   "cell_type": "markdown",
   "id": "8970265c",
   "metadata": {},
   "source": [
    "#### 3.10 [5 points] Resample the anomaly timeseries at annual resolution and plot. So which years stand out as having anomalous hurricane activity?"
   ]
  },
  {
   "cell_type": "code",
   "execution_count": 17,
   "id": "2def178d",
   "metadata": {
    "scrolled": false
   },
   "outputs": [
    {
     "data": {
      "text/plain": [
       "<AxesSubplot:xlabel='ISO_TIME'>"
      ]
     },
     "execution_count": 17,
     "metadata": {},
     "output_type": "execute_result"
    },
    {
     "data": {
      "image/png": "[encoded data removed]",
      "text/plain": [
       "<Figure size 432x288 with 1 Axes>"
      ]
     },
     "metadata": {
      "needs_background": "light"
     },
     "output_type": "display_data"
    }
   ],
   "source": [
    "con.index = pd.to_datetime(con.index)   #把index转换成datetime格式\n",
    "conrep = con.resample('Y').mean()   #对con以年分辨率进行重采样\n",
    "conrep.anomaly.plot()       "
   ]
  },
  {
   "cell_type": "markdown",
   "id": "d584365c",
   "metadata": {},
   "source": [
    "#### 答：可以看出，最异常的年份为1992年"
   ]
  },
  {
   "cell_type": "markdown",
   "id": "ad1a5e23",
   "metadata": {},
   "source": [
    "# 4. Explore a data set"
   ]
  },
  {
   "cell_type": "markdown",
   "id": "02614428",
   "metadata": {},
   "source": [
    "Browse the National Centers for Environmental Information (NCEI) or Advanced Global Atmospheric Gases Experiment (AGAGE) website. Search and download a data set you are interested in. You are also welcome to use data from your group in this problem set. But the data set should be in csv, XLS, or XLSX format, and have temporal information"
   ]
  },
  {
   "cell_type": "markdown",
   "id": "23435248",
   "metadata": {},
   "source": [
    "#### 4.1 [5 points] Load the csv, XLS, or XLSX file, and clean possible data points with missing values or bad quality."
   ]
  },
  {
   "cell_type": "code",
   "execution_count": 18,
   "id": "b2bcb5b1",
   "metadata": {
    "scrolled": true
   },
   "outputs": [
    {
     "data": {
      "text/html": [
       "<div>\n",
       "<style scoped>\n",
       "    .dataframe tbody tr th:only-of-type {\n",
       "        vertical-align: middle;\n",
       "    }\n",
       "\n",
       "    .dataframe tbody tr th {\n",
       "        vertical-align: top;\n",
       "    }\n",
       "\n",
       "    .dataframe thead th {\n",
       "        text-align: right;\n",
       "    }\n",
       "</style>\n",
       "<table border=\"1\" class=\"dataframe\">\n",
       "  <thead>\n",
       "    <tr style=\"text-align: right;\">\n",
       "      <th></th>\n",
       "      <th>Country</th>\n",
       "      <th>Sectors</th>\n",
       "      <th>1960</th>\n",
       "      <th>1961</th>\n",
       "      <th>1962</th>\n",
       "      <th>1963</th>\n",
       "      <th>1964</th>\n",
       "      <th>1965</th>\n",
       "      <th>1966</th>\n",
       "      <th>1967</th>\n",
       "      <th>...</th>\n",
       "      <th>2008</th>\n",
       "      <th>2009</th>\n",
       "      <th>2010</th>\n",
       "      <th>2011</th>\n",
       "      <th>2012</th>\n",
       "      <th>2013</th>\n",
       "      <th>2014</th>\n",
       "      <th>2015</th>\n",
       "      <th>2016</th>\n",
       "      <th>2017</th>\n",
       "    </tr>\n",
       "  </thead>\n",
       "  <tbody>\n",
       "    <tr>\n",
       "      <th>0</th>\n",
       "      <td>Afghanistan</td>\n",
       "      <td>Energy Sector</td>\n",
       "      <td>0.184000</td>\n",
       "      <td>0.18500</td>\n",
       "      <td>0.185000</td>\n",
       "      <td>0.186000</td>\n",
       "      <td>0.197000</td>\n",
       "      <td>0.192000</td>\n",
       "      <td>0.204000</td>\n",
       "      <td>0.199000</td>\n",
       "      <td>...</td>\n",
       "      <td>0.72600</td>\n",
       "      <td>0.729000</td>\n",
       "      <td>0.74600</td>\n",
       "      <td>0.7670</td>\n",
       "      <td>0.782000</td>\n",
       "      <td>0.749000</td>\n",
       "      <td>0.722000</td>\n",
       "      <td>0.623000</td>\n",
       "      <td>0.559000</td>\n",
       "      <td>0.508000</td>\n",
       "    </tr>\n",
       "    <tr>\n",
       "      <th>1</th>\n",
       "      <td>Afghanistan</td>\n",
       "      <td>Industrial</td>\n",
       "      <td>0.058500</td>\n",
       "      <td>0.05940</td>\n",
       "      <td>0.060000</td>\n",
       "      <td>0.061700</td>\n",
       "      <td>0.065400</td>\n",
       "      <td>0.064700</td>\n",
       "      <td>0.070200</td>\n",
       "      <td>0.069900</td>\n",
       "      <td>...</td>\n",
       "      <td>1.47000</td>\n",
       "      <td>1.550000</td>\n",
       "      <td>1.56000</td>\n",
       "      <td>1.5800</td>\n",
       "      <td>1.470000</td>\n",
       "      <td>1.470000</td>\n",
       "      <td>1.440000</td>\n",
       "      <td>1.440000</td>\n",
       "      <td>1.430000</td>\n",
       "      <td>1.400000</td>\n",
       "    </tr>\n",
       "    <tr>\n",
       "      <th>2</th>\n",
       "      <td>Afghanistan</td>\n",
       "      <td>Residential</td>\n",
       "      <td>5.110000</td>\n",
       "      <td>5.20000</td>\n",
       "      <td>5.290000</td>\n",
       "      <td>5.370000</td>\n",
       "      <td>5.450000</td>\n",
       "      <td>5.540000</td>\n",
       "      <td>5.670000</td>\n",
       "      <td>5.760000</td>\n",
       "      <td>...</td>\n",
       "      <td>13.00000</td>\n",
       "      <td>13.400000</td>\n",
       "      <td>13.30000</td>\n",
       "      <td>13.2000</td>\n",
       "      <td>13.400000</td>\n",
       "      <td>13.300000</td>\n",
       "      <td>13.400000</td>\n",
       "      <td>13.400000</td>\n",
       "      <td>13.300000</td>\n",
       "      <td>13.300000</td>\n",
       "    </tr>\n",
       "    <tr>\n",
       "      <th>3</th>\n",
       "      <td>Afghanistan</td>\n",
       "      <td>On-road motor vehicles</td>\n",
       "      <td>0.009510</td>\n",
       "      <td>0.00958</td>\n",
       "      <td>0.009930</td>\n",
       "      <td>0.009830</td>\n",
       "      <td>0.010400</td>\n",
       "      <td>0.010300</td>\n",
       "      <td>0.011300</td>\n",
       "      <td>0.010800</td>\n",
       "      <td>...</td>\n",
       "      <td>0.11900</td>\n",
       "      <td>0.125000</td>\n",
       "      <td>0.13300</td>\n",
       "      <td>0.1350</td>\n",
       "      <td>0.139000</td>\n",
       "      <td>0.136000</td>\n",
       "      <td>0.135000</td>\n",
       "      <td>0.009910</td>\n",
       "      <td>0.010100</td>\n",
       "      <td>0.009850</td>\n",
       "    </tr>\n",
       "    <tr>\n",
       "      <th>4</th>\n",
       "      <td>Afghanistan</td>\n",
       "      <td>Other anthropogenic</td>\n",
       "      <td>0.000952</td>\n",
       "      <td>0.00095</td>\n",
       "      <td>0.000947</td>\n",
       "      <td>0.000884</td>\n",
       "      <td>0.000959</td>\n",
       "      <td>0.000974</td>\n",
       "      <td>0.000908</td>\n",
       "      <td>0.000988</td>\n",
       "      <td>...</td>\n",
       "      <td>0.00207</td>\n",
       "      <td>0.000748</td>\n",
       "      <td>0.00127</td>\n",
       "      <td>0.0018</td>\n",
       "      <td>0.000361</td>\n",
       "      <td>0.000673</td>\n",
       "      <td>0.000537</td>\n",
       "      <td>0.000536</td>\n",
       "      <td>0.000537</td>\n",
       "      <td>0.000537</td>\n",
       "    </tr>\n",
       "  </tbody>\n",
       "</table>\n",
       "<p>5 rows × 60 columns</p>\n",
       "</div>"
      ],
      "text/plain": [
       "       Country                 Sectors      1960     1961      1962      1963  \\\n",
       "0  Afghanistan           Energy Sector  0.184000  0.18500  0.185000  0.186000   \n",
       "1  Afghanistan              Industrial  0.058500  0.05940  0.060000  0.061700   \n",
       "2  Afghanistan             Residential  5.110000  5.20000  5.290000  5.370000   \n",
       "3  Afghanistan  On-road motor vehicles  0.009510  0.00958  0.009930  0.009830   \n",
       "4  Afghanistan     Other anthropogenic  0.000952  0.00095  0.000947  0.000884   \n",
       "\n",
       "       1964      1965      1966      1967  ...      2008       2009      2010  \\\n",
       "0  0.197000  0.192000  0.204000  0.199000  ...   0.72600   0.729000   0.74600   \n",
       "1  0.065400  0.064700  0.070200  0.069900  ...   1.47000   1.550000   1.56000   \n",
       "2  5.450000  5.540000  5.670000  5.760000  ...  13.00000  13.400000  13.30000   \n",
       "3  0.010400  0.010300  0.011300  0.010800  ...   0.11900   0.125000   0.13300   \n",
       "4  0.000959  0.000974  0.000908  0.000988  ...   0.00207   0.000748   0.00127   \n",
       "\n",
       "      2011       2012       2013       2014       2015       2016       2017  \n",
       "0   0.7670   0.782000   0.749000   0.722000   0.623000   0.559000   0.508000  \n",
       "1   1.5800   1.470000   1.470000   1.440000   1.440000   1.430000   1.400000  \n",
       "2  13.2000  13.400000  13.300000  13.400000  13.400000  13.300000  13.300000  \n",
       "3   0.1350   0.139000   0.136000   0.135000   0.009910   0.010100   0.009850  \n",
       "4   0.0018   0.000361   0.000673   0.000537   0.000536   0.000537   0.000537  \n",
       "\n",
       "[5 rows x 60 columns]"
      ]
     },
     "execution_count": 18,
     "metadata": {},
     "output_type": "execute_result"
    }
   ],
   "source": [
    "df = pd.read_excel('BC emissions by country and main source category.xlsx',\n",
    "                    skiprows = 4,\n",
    "                    skipfooter = 7)      #不读取前四行和后七行\n",
    "df.iloc[:,2:][df.iloc[:,2:]<0] =0    #对小于0的异常数据处理为0\n",
    "df.fillna(0,inplace=True)     #用0替换NAN\n",
    "df.head()"
   ]
  },
  {
   "cell_type": "markdown",
   "id": "38007826",
   "metadata": {},
   "source": [
    "#### 4.2 [5 points] Plot the time series of a certain variable."
   ]
  },
  {
   "cell_type": "code",
   "execution_count": 19,
   "id": "15eb556b",
   "metadata": {
    "scrolled": true
   },
   "outputs": [
    {
     "data": {
      "image/png": "[encoded data removed]",
      "text/plain": [
       "<Figure size 432x288 with 1 Axes>"
      ]
     },
     "metadata": {
      "needs_background": "light"
     },
     "output_type": "display_data"
    }
   ],
   "source": [
    "dftime = df.groupby('Country').sum().sum()\n",
    "dftime.plot(color = 'darkgoldenrod',linewidth=1.5,marker='|')\n",
    "plt.xticks([1960,1970,1980,1990,2000,2010,2017])\n",
    "plt.title('Global Black Carbon Emission')        #设置标题\n",
    "plt.xlabel('Year')             #设置x，y轴的标签\n",
    "plt.ylabel('BC emission/Gg')\n",
    "plt.show()"
   ]
  },
  {
   "cell_type": "markdown",
   "id": "117fa0c6",
   "metadata": {},
   "source": [
    "#### 4.3 [5 points] Conduct at least 5 simple statistical checks with the variable, and report your findings."
   ]
  },
  {
   "cell_type": "code",
   "execution_count": 20,
   "id": "ad0d4343",
   "metadata": {},
   "outputs": [
    {
     "data": {
      "text/html": [
       "<div>\n",
       "<style scoped>\n",
       "    .dataframe tbody tr th:only-of-type {\n",
       "        vertical-align: middle;\n",
       "    }\n",
       "\n",
       "    .dataframe tbody tr th {\n",
       "        vertical-align: top;\n",
       "    }\n",
       "\n",
       "    .dataframe thead th {\n",
       "        text-align: right;\n",
       "    }\n",
       "</style>\n",
       "<table border=\"1\" class=\"dataframe\">\n",
       "  <thead>\n",
       "    <tr style=\"text-align: right;\">\n",
       "      <th></th>\n",
       "      <th>max</th>\n",
       "      <th>mean</th>\n",
       "      <th>min</th>\n",
       "      <th>median</th>\n",
       "      <th>std</th>\n",
       "    </tr>\n",
       "  </thead>\n",
       "  <tbody>\n",
       "    <tr>\n",
       "      <th>0</th>\n",
       "      <td>10260.78</td>\n",
       "      <td>8292.19</td>\n",
       "      <td>5933.31</td>\n",
       "      <td>8580.19</td>\n",
       "      <td>1073.57</td>\n",
       "    </tr>\n",
       "  </tbody>\n",
       "</table>\n",
       "</div>"
      ],
      "text/plain": [
       "        max     mean      min   median      std\n",
       "0  10260.78  8292.19  5933.31  8580.19  1073.57"
      ]
     },
     "execution_count": 20,
     "metadata": {},
     "output_type": "execute_result"
    }
   ],
   "source": [
    "data = [dftime.max(),dftime.mean(),dftime.min(),dftime.median(),dftime.std()]\n",
    "statistical=pd.DataFrame([data],columns=['max','mean','min','median','std'])\n",
    "statistical.apply(lambda x:round(x,2))     #对统计结果保留两位小数"
   ]
  }
 ],
 "metadata": {
  "kernelspec": {
   "display_name": "Python 3 (ipykernel)",
   "language": "python",
   "name": "python3"
  },
  "language_info": {
   "codemirror_mode": {
    "name": "ipython",
    "version": 3
   },
   "file_extension": ".py",
   "mimetype": "text/x-python",
   "name": "python",
   "nbconvert_exporter": "python",
   "pygments_lexer": "ipython3",
   "version": "3.9.12"
  }
 },
 "nbformat": 4,
 "nbformat_minor": 5
}
